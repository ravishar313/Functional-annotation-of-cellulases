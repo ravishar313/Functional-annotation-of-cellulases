{
 "cells": [
  {
   "cell_type": "code",
   "execution_count": 1,
   "metadata": {},
   "outputs": [],
   "source": [
    "#parsing the whole of CAZy\n",
    "import re\n",
    "\n",
    "class CAZy_data:\n",
    "    def __init__(self,filename1,filename2):\n",
    "        self.data,self.acc,self.seq=[],[],[]\n",
    "        with open(filename1,'r',encoding='utf-8') as inpt:\n",
    "            for each in inpt:\n",
    "                self.data.append(each.rstrip().split('$'))\n",
    "                \n",
    "        with open(filename2,'r',encoding='utf-8') as inpt1:\n",
    "            for each1 in inpt1:\n",
    "                if each1.startswith('>'):\n",
    "                    self.acc.append(each1.rstrip())\n",
    "                else:\n",
    "                    self.seq.append(each1.rstrip())\n",
    "            \n",
    "                  \n",
    "    def data_fetch(self,typ,position):\n",
    "        typ_data=[]\n",
    "        if typ=='all':\n",
    "            typ_data=self.data\n",
    "        else:\n",
    "            for each in self.data:\n",
    "                mult=each[position].split(' ')\n",
    "                if len(mult)==1:#### In case typ = EC, Multi EC number and protein with no EC number are ignore.\n",
    "                    if mult[0]==typ:\n",
    "                        typ_data.append(each)\n",
    "        return typ_data\n",
    "    \n",
    "    def EC_GH(self,ec_no,gh_fam):\n",
    "        self.fasta=[]\n",
    "        cazy_ec=self.data_fetch(ec_no,1)\n",
    "        cazy_gh=self.data_fetch(gh_fam,-1)\n",
    "        self.common_data=[[i[0],i[1],i[3],i[4],i[-2],i[-1]] for i in cazy_ec if i in cazy_gh]\n",
    "        rm_prt, rm_prt_fasta=[],[]\n",
    "        for each in range(len(self.common_data)):\n",
    "            t=self.common_data[each]\n",
    "            if self.prtn_filter(t[0]):\n",
    "                all_acc=t[3].split(' ')\n",
    "                if all_acc[0]!='':\n",
    "                    for e_acc in all_acc:\n",
    "                        e_seq=self.seq_fetch(e_acc)\n",
    "                        try:\n",
    "                            create_error=0/len(e_seq) # to remove accession number which doesnt have hits\n",
    "                            self.fasta.append(f'>{e_acc}${t[0]}${t[1]}${t[2]}${t[-2]}${t[-1]}')\n",
    "                            self.fasta.append(e_seq[0])\n",
    "                        except ZeroDivisionError:\n",
    "                            rm_prt_fasta.append(e_acc)\n",
    "            else:\n",
    "                rm_prt.append(t)\n",
    "#         print('Total number of sequences:',len(self.fasta)/2)\n",
    "#         print('Number of removed partial or fragment proteins (CAZy):',len(rm_prt))\n",
    "#         print('Number of removed partial or fragment proteins (Fasta):',len(rm_prt_fasta))\n",
    "        return self.fasta,rm_prt,rm_prt_fasta\n",
    "    def prtn_filter(self,prt_name):\n",
    "        hit=1\n",
    "        if re.search('partial|fragment',prt_name.lower()):\n",
    "            hit-=1\n",
    "        return hit\n",
    "            \n",
    "    def seq_fetch(self,accession):\n",
    "        hits=[]\n",
    "        temp=0\n",
    "        for each in range(len(self.acc)):\n",
    "            if re.search(f'{accession}\\D',self.acc[each]):\n",
    "                temp+=1\n",
    "                \n",
    "                if self.prtn_filter(self.acc[each]): # remove partial| fragment accession numbers from GenBank description\n",
    "                    hits.append(self.seq[each])\n",
    "        if temp>1:\n",
    "            print(f'Multiple hits for {accession}')\n",
    "        elif temp==0:\n",
    "            print(f'No hits for {accession}')\n",
    "        return hits\n",
    "     \n",
    "In_data=CAZy_data('cazy_char_10_6_22.txt','char_gh_23_6_22.txt')\n"
   ]
  },
  {
   "cell_type": "code",
   "execution_count": 2,
   "metadata": {},
   "outputs": [
    {
     "name": "stdout",
     "output_type": "stream",
     "text": [
      "please input the EC number (write all if no preference):3.2.1.4\n",
      "please input the GH family (write all if no preference):GH8\n"
     ]
    }
   ],
   "source": [
    "EC_number= input('please input the EC number (write all if no preference):')\n",
    "GH_family= input('please input the GH family (write all if no preference):')\n"
   ]
  },
  {
   "cell_type": "code",
   "execution_count": 3,
   "metadata": {},
   "outputs": [
    {
     "name": "stdout",
     "output_type": "stream",
     "text": [
      "No hits for NP_213966.1\n"
     ]
    }
   ],
   "source": [
    "cazy_acc_seq,rm_cazy,rm_genbank=In_data.EC_GH(EC_number,GH_family) # write all to fetch all the EC number or all the GH family"
   ]
  },
  {
   "cell_type": "code",
   "execution_count": 73,
   "metadata": {},
   "outputs": [],
   "source": [
    "import pandas as pd\n",
    "import os\n",
    "import numpy as np\n",
    "import re\n",
    "import matplotlib.pyplot as plt"
   ]
  },
  {
   "cell_type": "code",
   "execution_count": 5,
   "metadata": {},
   "outputs": [],
   "source": [
    "#splitting sequence and accession IDs\n",
    "acc,seq=[],[]\n",
    "for ii in cazy_acc_seq:\n",
    "    if ii.startswith('>'):\n",
    "        acc.append(ii.rstrip())\n",
    "    else:\n",
    "        seq.append(ii.rstrip()) "
   ]
  },
  {
   "cell_type": "code",
   "execution_count": 6,
   "metadata": {},
   "outputs": [],
   "source": [
    "#creating a dictionary with only the reqiuired information with the accession ID\n",
    "acc_seq={}\n",
    "for i in range(len(acc)):\n",
    "    accc=acc[i].split('$')\n",
    "    acc_no=accc[0]\n",
    "    x='>'+acc_no[1:]+'&'+accc[2]+'&'+accc[4]+'&'+accc[5]\n",
    "    acc_seq[x] = seq[i]\n"
   ]
  },
  {
   "cell_type": "code",
   "execution_count": 7,
   "metadata": {},
   "outputs": [],
   "source": [
    "#the file with the required info\n",
    "filename='EC'+EC_number.split('.')[3]+'_'+GH_family+'.fasta'\n",
    "y=len(seq)\n",
    "with open(filename,'w',encoding='utf-8') as otp:\n",
    "    for i in acc_seq.keys():\n",
    "        seq=acc_seq.get(i)\n",
    "        otp.write(i+'\\n'+seq+'\\n')"
   ]
  },
  {
   "cell_type": "code",
   "execution_count": null,
   "metadata": {},
   "outputs": [],
   "source": [
    "#perform CD-hit step\n",
    "identities=[0.9,0.8,0.7,0.6,0.5,0.4]\n",
    "short_word=[5,5,5,4,3,2]\n",
    "cd_hit_files=[]\n",
    "for i in range(5):\n",
    "    y=str(int(identities[i]*100))\n",
    "    x='EC'+EC_number.split('.')[3]+'_'+GH_family+'_'+ y +'.fasta'\n",
    "    cd_hit_files.append(x)\n",
    "    cmd='cd-hit -i '+ filename + ' -o EC'+EC_number.split('.')[3]+'_'+GH_family+'_'+ y +'.fasta' + ' -c ' + str(identities[i]) +' -n ' + str(short_word[i])\n",
    "    os.system(cmd)"
   ]
  },
  {
   "cell_type": "code",
   "execution_count": 19,
   "metadata": {},
   "outputs": [],
   "source": [
    "#create a function to find outliers using IQR\n",
    "\n",
    "def find_outliers_IQR(df):\n",
    "    q1=df.quantile(0.25) #finding the first and 3rd quatrile\n",
    "    q3=df.quantile(0.75)\n",
    "    IQR=q3-q1 #finding the interquatrile range\n",
    "    outliers = df[((df<(q1-1.5*IQR)) | (df>(q3+1.5*IQR)))] #finding outliers\n",
    "    return outliers"
   ]
  },
  {
   "cell_type": "code",
   "execution_count": 30,
   "metadata": {},
   "outputs": [
    {
     "name": "stdout",
     "output_type": "stream",
     "text": [
      "csv file with no outliers is successfully saved\n",
      "multifasta file with no length outliers is successfully saved\n",
      "csv file with no outliers is successfully saved\n",
      "multifasta file with no length outliers is successfully saved\n",
      "csv file with no outliers is successfully saved\n",
      "multifasta file with no length outliers is successfully saved\n",
      "csv file with no outliers is successfully saved\n",
      "multifasta file with no length outliers is successfully saved\n",
      "csv file with no outliers is successfully saved\n",
      "multifasta file with no length outliers is successfully saved\n",
      "csv file with no outliers is successfully saved\n",
      "multifasta file with no length outliers is successfully saved\n"
     ]
    }
   ],
   "source": [
    "#cd_hit_files=['EC4_GH8_40.fasta','EC4_GH8_50.fasta', 'EC4_GH8_60.fasta', 'EC4_GH8_70.fasta', 'EC4_GH8_80.fasta', 'EC4_GH8_90.fasta']\n",
    "for_hmm=[]\n",
    "for file in cd_hit_files:\n",
    "    acc,seq=[],[]\n",
    "    with open(file,'r',encoding='utf-8') as fasta_file:\n",
    "        #print(file)\n",
    "        for ii in fasta_file:\n",
    "            if ii.startswith('>'):\n",
    "                acc.append(ii.rstrip())\n",
    "            else:\n",
    "                seq.append(ii.rstrip()) \n",
    "        acc_seq={}\n",
    "        for i in range(len(acc)):\n",
    "            accc=acc[i].split('$')\n",
    "            acc_no=accc[0]\n",
    "            acc_seq[acc_no[1:]] = seq[i]\n",
    "        #print(acc_seq)\n",
    "        acc_vs_seq=pd.DataFrame.from_dict(acc_seq, orient = 'index')\n",
    "        acc_vs_seq.set_axis(['Sequence'], axis=1 , inplace=True)\n",
    "        acc_vs_seq['Length']=np.nan\n",
    "        for i in range(len(acc)): \n",
    "            acc_vs_seq.iloc[i,1]=int(len(acc_vs_seq.iloc[i,0]))\n",
    "        filename1=file.split('.')[0]+'.csv'\n",
    "        acc_vs_seq.to_csv(filename1)\n",
    "        #finding out the outliers and removing them step follows\n",
    "        acc_vs_seq=pd.read_csv(filename1) #read the csv file containing the length of each sequence as well, obtained from Get_EC_GH.ipynb\n",
    "        acc_vs_seq.rename( columns={'Unnamed: 0':'ID'}, inplace=True ) #rename the unnamed column as ID\n",
    "        x=list(find_outliers_IQR(acc_vs_seq['Length'])) #finding length outliers, saving them to list\n",
    "        acc_vs_seq=acc_vs_seq[acc_vs_seq.Length.isin(x) == False] #removing the outlier. if the length is not in hte outlier list (x), they are taken\n",
    "        acc_vs_seq.reset_index(inplace = True, drop = True) #resetting the index, as after dropping there are missing index values\n",
    "        filename2= file.split('.')[0]+'_no_outliers.csv' #saving the updated csv file\n",
    "        acc_vs_seq.to_csv(filename2)\n",
    "        print('csv file with no outliers is successfully saved')\n",
    "        #saving the sequences to multifasta\n",
    "        xx=(acc_vs_seq.ID.count())\n",
    "        filename3=file.split('.')[0]+'_no_outliers.fasta'\n",
    "        for_hmm.append(filename3)\n",
    "        with open(filename3,'w',encoding='utf-8') as otp:\n",
    "            for i in range(xx):\n",
    "                acc_id=acc_vs_seq.iloc[i,0]\n",
    "                seq=acc_vs_seq.iloc[i,1]\n",
    "                otp.write('>'+acc_id+'\\n'+seq+'\\n')\n",
    "        print('multifasta file with no length outliers is successfully saved')\n"
   ]
  },
  {
   "cell_type": "code",
   "execution_count": 31,
   "metadata": {},
   "outputs": [
    {
     "name": "stdout",
     "output_type": "stream",
     "text": [
      "EC4_GH8_40_no_outliers.fasta\n",
      "EC4_GH8_50_no_outliers.fasta\n",
      "EC4_GH8_60_no_outliers.fasta\n",
      "EC4_GH8_70_no_outliers.fasta\n",
      "EC4_GH8_80_no_outliers.fasta\n",
      "EC4_GH8_90_no_outliers.fasta\n"
     ]
    }
   ],
   "source": [
    "#making hmm for each cutoff\n",
    "hmm_files=[]\n",
    "for fas_for_hmm in for_hmm:\n",
    "    print(fas_for_hmm)\n",
    "    cmd_aln='mafft '+ fas_for_hmm + ' > ' +fas_for_hmm.split('.')[0]+'.aln'\n",
    "    os.system(cmd_aln)\n",
    "    print('alignment done for '+ fas_for_hmm)\n",
    "    cmd_hmm='hmmbuild '+ fas_for_hmm.split('.')[0]+'.hmm ' + fas_for_hmm.split('.')[0]+'.aln'\n",
    "    os.system(cmd_hmm)\n",
    "    hmm_files.append(fas_for_hmm.split('.')[0]+'.hmm ')\n",
    "    print('hmm build for '+ fas_for_hmm)"
   ]
  },
  {
   "cell_type": "code",
   "execution_count": null,
   "metadata": {},
   "outputs": [],
   "source": [
    "search_file=input('file you would like to evaluate the HMMs against:')\n",
    "#evaluation of HMMs\n",
    "eval_files=[]\n",
    "for hmm_file in hmm_files:\n",
    "    xx=hmm_file.split('.')[0]+'_vs_'+search_file.split('.')[0]+'.txt'\n",
    "    eval_files.append(xx)\n",
    "    cmd_search='hmmsearch --noali --domtblout ' + hmm_file.split('.')[0]+'_vs_'+search_file.split('.')[0]+'.txt '+ hmm_file+search_file\n",
    "    os.system(cmd_search)"
   ]
  },
  {
   "cell_type": "code",
   "execution_count": 93,
   "metadata": {},
   "outputs": [
    {
     "name": "stderr",
     "output_type": "stream",
     "text": [
      "C:\\Users\\ravis\\anaconda3\\lib\\site-packages\\ipykernel_launcher.py:38: SettingWithCopyWarning: \n",
      "A value is trying to be set on a copy of a slice from a DataFrame.\n",
      "Try using .loc[row_indexer,col_indexer] = value instead\n",
      "\n",
      "See the caveats in the documentation: https://pandas.pydata.org/pandas-docs/stable/user_guide/indexing.html#returning-a-view-versus-a-copy\n"
     ]
    },
    {
     "name": "stdout",
     "output_type": "stream",
     "text": [
      "all ROC files saved\n"
     ]
    },
    {
     "data": {
      "image/png": "[encoded data removed]",
      "text/plain": [
       "<Figure size 432x288 with 1 Axes>"
      ]
     },
     "metadata": {
      "needs_background": "light"
     },
     "output_type": "display_data"
    }
   ],
   "source": [
    "#eval_files=['EC4_GH8_40_no_outliers_vs_all_GH8.txt']\n",
    "#making ROC curves\n",
    "for eval_file in eval_files:\n",
    "    use,no_use=[],[]\n",
    "    with open(eval_file,'r',encoding='utf-8') as otp:\n",
    "        for ii in otp:\n",
    "            if ii.startswith('#'):\n",
    "                #print(no_use)\n",
    "                no_use.append(ii)\n",
    "            else:\n",
    "                #print(use)\n",
    "                use.append(ii) \n",
    "    xx=len(use)\n",
    "    with open('test_del.txt','w',encoding='utf-8') as otp:\n",
    "        for i in range(xx):\n",
    "            info=use[i]\n",
    "            otp.write(info)\n",
    "    import re\n",
    "    new_data=[]\n",
    "    for i in use:\n",
    "        j=re.split('\\s+',i.strip())\n",
    "        new_data.append(j)\n",
    "    df2=pd.DataFrame(new_data)\n",
    "    df3=df2[[0,13,15,16,17,18,22]]\n",
    "    df3.columns=['ID','Score','hmm_start','hmm_end','ali_start','ali_end','description']\n",
    "    x=df3['description'].tolist()\n",
    "    y=df3['ID'].tolist()\n",
    "    filename4=eval_file.split('.')[0]+'_raw.csv'\n",
    "    df3.to_csv(filename4)\n",
    "    IDs=[]\n",
    "    for i in range(len(x)):\n",
    "        if x[i].startswith('-'):\n",
    "            z=y[i]\n",
    "            IDs.append(z)\n",
    "        else:\n",
    "            z=y[i]+x[i]\n",
    "            IDs.append(z)\n",
    "    df3['IDs']=IDs\n",
    "    df3=df3.drop(['ID','description'], axis=1)\n",
    "    df3.Score = df3.Score.astype(float)\n",
    "    df3=df3.sort_values(by=['Score'], ascending=False)\n",
    "    score=df3['Score'].to_list()\n",
    "    data=df3['IDs'].to_list()\n",
    "    TP,TN,FP,FN=[],[],[],[]\n",
    "    for threshold in score:\n",
    "        #print('threshold is ' + threshold)\n",
    "        tp,fp=0,0\n",
    "        fn,tn=0,0\n",
    "        #print('loop1')\n",
    "        for current_score in score:\n",
    "            #print(current_score)\n",
    "            #tp,fp=0,0\n",
    "            #print('loop2')\n",
    "            if float(current_score)>=float(threshold):\n",
    "                #tp,fp=0,0\n",
    "                #print('current score '+ current_score + ' is higher than threshold '+ threshold)\n",
    "                #print('loop3')\n",
    "                if EC_number in data[score.index(current_score)]:\n",
    "                    #print('TP + 1')\n",
    "                    tp=tp+1\n",
    "                    #print(tp)\n",
    "                    #print('loop4')\n",
    "                else: \n",
    "                    #print('FP+1')\n",
    "                    fp=fp+1\n",
    "            else:\n",
    "                #print('current score '+ current_score + ' is lower than threshold '+ threshold)\n",
    "                if EC_number in data[score.index(current_score)]:\n",
    "                    #print('FN + 1')\n",
    "                    fn=fn+1\n",
    "                else: \n",
    "                    #print('TN +1')\n",
    "                    tn=tn+1\n",
    "        TP.append(tp)\n",
    "        FP.append(fp)\n",
    "        FN.append(fn)\n",
    "        TN.append(tn)\n",
    "    #print(TP,TN,FP,FN)\n",
    "    dff=pd.DataFrame()\n",
    "    dff['Threshold']=score\n",
    "    dff['TP']=TP\n",
    "    dff['TN']=TN\n",
    "    dff['FP']=FP\n",
    "    dff['FN']=FN\n",
    "    dff['FPR']=np.nan\n",
    "    dff['TPR']=np.nan\n",
    "    index=dff.index\n",
    "    FPR,TPR=[],[]\n",
    "    for i in index:\n",
    "        tp=dff.iloc[i,1]\n",
    "        tn=dff.iloc[i,2]\n",
    "        fp=dff.iloc[i,3]\n",
    "        fn=dff.iloc[i,4]\n",
    "        fpr=fp/(fp+tn)\n",
    "        tpr=tp/(tp+fn)\n",
    "        FPR.append(fpr)\n",
    "        TPR.append(tpr)\n",
    "    dff['FPR']=FPR\n",
    "    dff['TPR']=TPR\n",
    "    filename5=eval_file.split('.')[0]+'_ROC.csv'\n",
    "    dff.to_csv(filename5)\n",
    "    plt.clf()\n",
    "    plt.scatter(dff.FPR, dff.TPR, c =\"blue\", s=10)\n",
    "    plt.xlabel(\"FPR\")\n",
    "    plt.ylabel(\"TPR\")\n",
    "    filename6=filename5.split('.')[0]+'.png'\n",
    "    plt.savefig(filename6, dpi=300)\n",
    "    \n",
    "print('all ROC files saved')\n"
   ]
  },
  {
   "cell_type": "code",
   "execution_count": null,
   "metadata": {},
   "outputs": [],
   "source": []
  }
 ],
 "metadata": {
  "kernelspec": {
   "display_name": "Python 3",
   "language": "python",
   "name": "python3"
  },
  "language_info": {
   "codemirror_mode": {
    "name": "ipython",
    "version": 3
   },
   "file_extension": ".py",
   "mimetype": "text/x-python",
   "name": "python",
   "nbconvert_exporter": "python",
   "pygments_lexer": "ipython3",
   "version": "3.7.6"
  }
 },
 "nbformat": 4,
 "nbformat_minor": 4
}
